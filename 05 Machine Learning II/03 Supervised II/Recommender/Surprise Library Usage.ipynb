{
 "cells": [
  {
   "cell_type": "markdown",
   "metadata": {},
   "source": [
    "# Simple Python Recommender Engine (Surprise!)\n",
    "## Learn how to build a recommender system using the Python library surprise!\n",
    "The engineering and development of a recommender system requires work across data science, software \n",
    "engineering, infrastructure, product, and design. With so many things that need to be executed in \n",
    "order to produce a good recommender system, having tools that make writing and testing the code for \n",
    "recommender systems is critical to success.\n",
    "\n",
    "In the specific case of machine learning engineering, one group of tools that makes development easier \n",
    "is open-source software libraries. These standardized and well-tested libraries that are shared across \n",
    "the machine learning community help increase the speed of writing code without an explicit need to \n",
    "develop and maintain one’s own libraries. If you have worked with scikit-learn, then you are familiar \n",
    "with how this open-source library makes it very easy to build sophisticated machine learning models \n",
    "using only a few lines of code. It would be ideal to have a similar library for recommender systems. \n",
    "Surprise was designed to solve this problem."
   ]
  },
  {
   "cell_type": "markdown",
   "metadata": {},
   "source": [
    "## What is Surprise?\n",
    "Surprise (an abbreviation of Simple Python Recommendation System Engine) is a scikit, a software library built as an add-on to the numerical computation library SciPy. Much like how scikit-learn makes developing and testing different machine learning models easy, Surprise makes developing and testing various recommender system algorithms easy. Surprise comes with several modules that make it easy to transform data, train recommender systems, and measure recommender system performance. It also comes with a solid base of documentation that makes it easy to understand and explore the library’s capabilities.\n",
    "\n",
    "## Building A Simple Recommender System\n",
    "We’re now going to use Surprise to build a basic recommender system. We will be using a classic dataset, the MovieLens Dataset, to build a recommender system that suggests movies to users based on the ratings they gave several movies. The MovieLens dataset is a set of 100,000 movie ratings for 9,000 movies provided by 600 users. The ratings come from the website movielens.org, a non-commercial site dedicated to giving users personalized movie recommendations. This data is very similar to the type of data you would find at large commercial streaming services.\n",
    "\n",
    "### Installation\n",
    "To install Surprise on your computer, simply use the following pip command:\n",
    "`pip install surprise`"
   ]
  },
  {
   "cell_type": "markdown",
   "metadata": {},
   "source": [
    "To test that the command worked, open up your terminal or Jupyter notebook or IDE and verify the following code runs:"
   ]
  },
  {
   "cell_type": "code",
   "execution_count": 1,
   "metadata": {},
   "outputs": [],
   "source": [
    "import surprise"
   ]
  },
  {
   "cell_type": "markdown",
   "metadata": {},
   "source": [
    "## Loading Data\n",
    "Surprise comes preloaded with datasets for building and testing recommender systems, including the MovieLens dataset. To load the MovieLens dataset, run the following code:"
   ]
  },
  {
   "cell_type": "code",
   "execution_count": 2,
   "metadata": {},
   "outputs": [],
   "source": [
    "from surprise import Dataset\n",
    "\n",
    "movie_data = Dataset.load_builtin('ml-100k', prompt=False)"
   ]
  },
  {
   "cell_type": "markdown",
   "metadata": {},
   "source": [
    "## Train/Test Split of Data\n",
    "Like other machine learning problems, recommender systems can be modeled as a supervised machine learning problem where the movie ratings of users are being utilized as features to predict ratings for movies users have not watched yet. Viewing recommender systems in this way, we can split the data into training and testing sets to help validate the performance of our recommender system. The code below will split the Movielens dataset into a 75%/25% train and test set:"
   ]
  },
  {
   "cell_type": "code",
   "execution_count": 3,
   "metadata": {},
   "outputs": [],
   "source": [
    "from surprise.model_selection import train_test_split\n",
    "trainset, testset = train_test_split(movie_data, test_size=.2, random_state=42)"
   ]
  },
  {
   "cell_type": "markdown",
   "metadata": {},
   "source": [
    "To understand what the data looks like, let’s look at the ratings. To look at the ratings, we will use the ur method of trainset. The method ur returns a dictionary where the keys are user ids, and the values are a list of tuples, where each tuple is in the form ({item_id}, {rating}). For example, to see the ratings of user 590:"
   ]
  },
  {
   "cell_type": "code",
   "execution_count": 4,
   "metadata": {},
   "outputs": [
    {
     "data": {
      "text/plain": [
       "[(699, 4.0),\n",
       " (114, 4.0),\n",
       " (339, 5.0),\n",
       " (769, 5.0),\n",
       " (230, 4.0),\n",
       " (212, 5.0),\n",
       " (21, 5.0),\n",
       " (33, 3.0),\n",
       " (94, 4.0),\n",
       " (74, 2.0),\n",
       " (22, 4.0),\n",
       " (471, 5.0),\n",
       " (8, 3.0),\n",
       " (305, 3.0),\n",
       " (645, 3.0),\n",
       " (558, 2.0),\n",
       " (166, 4.0),\n",
       " (129, 4.0),\n",
       " (100, 5.0),\n",
       " (232, 3.0),\n",
       " (391, 3.0),\n",
       " (204, 3.0),\n",
       " (508, 4.0),\n",
       " (79, 3.0),\n",
       " (83, 4.0),\n",
       " (426, 1.0),\n",
       " (6, 3.0),\n",
       " (58, 3.0),\n",
       " (1119, 5.0),\n",
       " (76, 5.0)]"
      ]
     },
     "execution_count": 4,
     "metadata": {},
     "output_type": "execute_result"
    }
   ],
   "source": [
    "trainset.ur[590]"
   ]
  },
  {
   "cell_type": "markdown",
   "metadata": {},
   "source": [
    "## Training A Recommender System\n",
    "Now that we have proper datasets for training and testing, we will now train a basic recommender system. Specifically, we will be training a simple user-user collaborative filter using Surprise’s KNNBasic algorithm. KNNBasic is a very simple implementation of user-user collaborative filtering. This algorithm works by using the k-nearest Negighbors (KNN) algorithm to determine the similarity of users based on how they rated movies (For more information on the K-nearest neighbors algorithm, check out this lesson). The average of the movie ratings from the most similar users are then used as the prediction for the target user. The recommender system is initialized and trained like so:"
   ]
  },
  {
   "cell_type": "code",
   "execution_count": 5,
   "metadata": {},
   "outputs": [
    {
     "name": "stdout",
     "output_type": "stream",
     "text": [
      "Computing the msd similarity matrix...\n",
      "Done computing similarity matrix.\n"
     ]
    },
    {
     "data": {
      "text/plain": [
       "<surprise.prediction_algorithms.knns.KNNBasic at 0x126f03c5a50>"
      ]
     },
     "execution_count": 5,
     "metadata": {},
     "output_type": "execute_result"
    }
   ],
   "source": [
    "from surprise import KNNBasic\n",
    "\n",
    "movie_recommender = KNNBasic()\n",
    "movie_recommender.fit(trainset)"
   ]
  },
  {
   "cell_type": "markdown",
   "metadata": {},
   "source": [
    "The output should look like:\n",
    "\n",
    "    Computing the msd similarity matrix...\n",
    "    Done computing similarity matrix.\n",
    "\n",
    "    <surprise.prediction_algorithms.knns.KNNBasic at 0x10b5c2fa0>\n",
    "\n",
    "## Evaluating Recommender System Performance\n",
    "Finally, we will evaluate the performance of the KNNBasic recommender system. First, let’s create some predictions on the test set."
   ]
  },
  {
   "cell_type": "code",
   "execution_count": 6,
   "metadata": {},
   "outputs": [],
   "source": [
    "predictions = movie_recommender.test(testset)"
   ]
  },
  {
   "cell_type": "markdown",
   "metadata": {},
   "source": [
    "The predictions are a list of Prediction objects. Each Prediction object contains a user id (uid), an item id representing the movie (iid), and actual rating given by the user for that movie (r_ui), an estimated rating from the recommender system (est) and some additional metadata about each prediction (details). An example of a Prediction object from our predictions can be seen below."
   ]
  },
  {
   "cell_type": "code",
   "execution_count": 7,
   "metadata": {},
   "outputs": [
    {
     "data": {
      "text/plain": [
       "Prediction(uid='907', iid='143', r_ui=5.0, est=4.039960584359155, details={'actual_k': 40, 'was_impossible': False})"
      ]
     },
     "execution_count": 7,
     "metadata": {},
     "output_type": "execute_result"
    }
   ],
   "source": [
    "predictions[0]\n"
   ]
  },
  {
   "cell_type": "markdown",
   "metadata": {},
   "source": [
    "This Prediction object contains a prediction for the movie ‘The Sound of Music’ (to see which movie each id corresponds to, take a look at this movie data file). As seen above, the recommender system predicted a rating of about 4 stars, which is not very far from the actual prediction of 5 stars.\n",
    "\n",
    "We can measure one aspect of the model’s performance by looking at the root-mean square error, or RMSE. The RMSE is an average measure of how far off predictions will be from their actual values. The closer the RMSE is to 0, the more accurate the model. The RMSE can also be thought of as a measure of relevance, or how likely the items recommended will be something the user would be interested in based on their previous behavior. It is important to note that while relevance is one important aspect of a recommender system, it is not the only important thing to optimize in a recommender system.\n",
    "\n",
    "As seen below, Surprise makes it very easy to measure model RMSE."
   ]
  },
  {
   "cell_type": "code",
   "execution_count": 8,
   "metadata": {},
   "outputs": [
    {
     "name": "stdout",
     "output_type": "stream",
     "text": [
      "RMSE: 0.9802\n"
     ]
    },
    {
     "data": {
      "text/plain": [
       "0.980150596704479"
      ]
     },
     "execution_count": 8,
     "metadata": {},
     "output_type": "execute_result"
    }
   ],
   "source": [
    "from surprise import accuracy\n",
    "accuracy.rmse(predictions)"
   ]
  },
  {
   "cell_type": "markdown",
   "metadata": {},
   "source": [
    "As seen above, the trained recommender system has an RMSE of about 0.98. We can now use this number as a baseline to see if there is a gain or loss in model performance versus other algorithms.\n",
    "\n",
    "## Conclusion\n",
    "And that’s it! With just 10 lines of code, Surprise allowed us to train and test a basic recommender system with ease. Surprise also has several other built-in recommender systems algorithms, including alternative forms of collaborative filtering, Singular Value Decomposition (SVD), and other algorithms that will be explored in the course. Additionally, much like scikit-learn models, each of these models have hyperparameters that can be adjusted to help further optimize the performance of recommender systems.\n",
    "\n",
    "This article has hopefully given you a taste of the power and usefulness of Surprise. While Surprise by itself is not sufficient to build a scalable and well-performing recommender system for large-scale use, it is an excellent starting point for developing recommender systems, and a powerful addition to a machine learning practitioner’s toolkit."
   ]
  },
  {
   "cell_type": "markdown",
   "metadata": {},
   "source": [
    "## Assessment\n",
    "Now it’s your turn! Using what you have learned, train a simple SVD recommender system using Surprise’s SVD algorithm (documentation can be found [here](https://surprise.readthedocs.io/en/stable/matrix_factorization.html#surprise.prediction_algorithms.matrix_factorization.SVD)) and the provided training data. Then calculate its RMSE. Is this an improvement over the KNNBasic algorithm above? How can you tell?"
   ]
  },
  {
   "cell_type": "code",
   "execution_count": 9,
   "metadata": {},
   "outputs": [
    {
     "name": "stdout",
     "output_type": "stream",
     "text": [
      "RMSE: 0.9370\n"
     ]
    },
    {
     "data": {
      "text/plain": [
       "0.93695221999409"
      ]
     },
     "execution_count": 9,
     "metadata": {},
     "output_type": "execute_result"
    }
   ],
   "source": [
    "from surprise import SVD\n",
    "from surprise import accuracy\n",
    "\n",
    "svd_recommender = SVD()\n",
    "svd_recommender.fit(trainset)\n",
    "\n",
    "svd_predictions = svd_recommender.test(testset)\n",
    "\n",
    "accuracy.rmse(svd_predictions)"
   ]
  }
 ],
 "metadata": {
  "kernelspec": {
   "display_name": "Python 3",
   "language": "python",
   "name": "python3"
  },
  "language_info": {
   "codemirror_mode": {
    "name": "ipython",
    "version": 3
   },
   "file_extension": ".py",
   "mimetype": "text/x-python",
   "name": "python",
   "nbconvert_exporter": "python",
   "pygments_lexer": "ipython3",
   "version": "3.10.11"
  },
  "orig_nbformat": 4
 },
 "nbformat": 4,
 "nbformat_minor": 2
}
