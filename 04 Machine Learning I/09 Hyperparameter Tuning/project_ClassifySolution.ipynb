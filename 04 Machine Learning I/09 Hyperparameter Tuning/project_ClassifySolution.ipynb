{
 "cells": [
  {
   "cell_type": "markdown",
   "metadata": {},
   "source": [
    "# Classify Raisins with Hyperparameter Tuning Project\n",
    "\n",
    "- [View Solution Notebook](./solution.html)\n",
    "- [View Project Page](https://www.codecademy.com/projects/practice/mle-hyperparameter-tuning-project)\n",
    "\n",
    "### 1. Explore the Dataset\n",
    "\n",
    "\n"
   ]
  },
  {
   "cell_type": "code",
   "execution_count": null,
   "metadata": {},
   "outputs": [],
   "source": [
    "# 1. Setup\n",
    "import pandas as pd\n",
    "from sklearn.model_selection import train_test_split\n",
    "from sklearn.tree import DecisionTreeClassifier\n",
    "from sklearn.linear_model import LogisticRegression\n",
    "from sklearn.model_selection import GridSearchCV\n",
    "from sklearn.model_selection import RandomizedSearchCV\n",
    "\n",
    "raisins = pd.read_csv('Raisin_Dataset.csv')\n",
    "raisins.head()"
   ]
  },
  {
   "cell_type": "code",
   "execution_count": null,
   "metadata": {},
   "outputs": [],
   "source": [
    "# 2. Create predictor and target variables, X and y\n",
    "X = raisins.drop('Class', axis=1)\n",
    "y = raisins['Class']"
   ]
  },
  {
   "cell_type": "code",
   "execution_count": null,
   "metadata": {},
   "outputs": [],
   "source": [
    "# 3. Examine the dataset\n",
    "print(\"Number of features:\", X.shape[1])\n",
    "print(\"Total number of samples:\", len(y))\n",
    "print(\"Samples belonging to class '1':\", y.sum())\n"
   ]
  },
  {
   "cell_type": "code",
   "execution_count": null,
   "metadata": {},
   "outputs": [],
   "source": [
    "# 4. Split the data set into training and testing sets\n",
    "X_train, X_test, y_train, y_test = train_test_split(X, y, random_state = 19)\n"
   ]
  },
  {
   "cell_type": "markdown",
   "metadata": {},
   "source": [
    "### 2. Grid Search with Decision Tree Classifier"
   ]
  },
  {
   "cell_type": "code",
   "execution_count": null,
   "metadata": {},
   "outputs": [],
   "source": [
    "# 5. Create a Decision Tree model\n",
    "tree = DecisionTreeClassifier()"
   ]
  },
  {
   "cell_type": "code",
   "execution_count": null,
   "metadata": {},
   "outputs": [],
   "source": [
    "# 6. Dictionary of parameters for GridSearchCV\n",
    "parameters = {'min_samples_split': [2,3,4], 'max_depth': [3,5,7]}\n"
   ]
  },
  {
   "cell_type": "code",
   "execution_count": null,
   "metadata": {},
   "outputs": [],
   "source": [
    "# 7. Create a GridSearchCV model\n",
    "grid = GridSearchCV(tree, parameters)\n",
    "\n",
    "#Fit the GridSearchCV model to the training data\n",
    "grid.fit(X_train, y_train)"
   ]
  },
  {
   "cell_type": "code",
   "execution_count": null,
   "metadata": {},
   "outputs": [],
   "source": [
    "# 8. Print the model and hyperparameters obtained by GridSearchCV\n",
    "print(grid.best_estimator_)\n",
    "\n",
    "# Print best score\n",
    "print(grid.best_score_)\n",
    "# Print the accuracy of the final model on the test data\n",
    "print(grid.score(X_test, y_test))"
   ]
  },
  {
   "cell_type": "code",
   "execution_count": null,
   "metadata": {},
   "outputs": [],
   "source": [
    "# 9. Print a table summarizing the results of GridSearchCV\n",
    "df = pd.concat([pd.DataFrame(grid.cv_results_['params']), pd.DataFrame(grid.cv_results_['mean_test_score'], columns=['Score'])], axis=1)\n",
    "print(df)"
   ]
  },
  {
   "cell_type": "markdown",
   "metadata": {},
   "source": [
    "### 2. Random Search with Logistic Regression"
   ]
  },
  {
   "cell_type": "code",
   "execution_count": null,
   "metadata": {},
   "outputs": [],
   "source": [
    "# 10. The logistic regression model\n",
    "lr = LogisticRegression(solver = 'liblinear', max_iter = 1000)"
   ]
  },
  {
   "cell_type": "code",
   "execution_count": null,
   "metadata": {},
   "outputs": [],
   "source": [
    "# 11. Define distributions to choose hyperparameters from\n",
    "from scipy.stats import uniform\n",
    "distributions = {'penalty': ['l1', 'l2'], 'C': uniform(loc=0, scale=100)}"
   ]
  },
  {
   "cell_type": "code",
   "execution_count": null,
   "metadata": {},
   "outputs": [],
   "source": [
    "# 12. Create a RandomizedSearchCV model\n",
    "clf = RandomizedSearchCV(lr, distributions, n_iter=8)\n",
    "\n",
    "# Fit the random search model\n",
    "clf.fit(X_train, y_train)"
   ]
  },
  {
   "cell_type": "code",
   "execution_count": null,
   "metadata": {},
   "outputs": [],
   "source": [
    "# 13. Print best esimatore and best score\n",
    "print(clf.best_estimator_)\n",
    "print (clf.best_score_)\n",
    "\n",
    "#Print a table summarizing the results of RandomSearchCV\n",
    "df = pd.concat([pd.DataFrame(clf.cv_results_['params']), pd.DataFrame(clf.cv_results_['mean_test_score'], columns=['Accuracy'])] ,axis=1)\n",
    "print(df.sort_values('Accuracy', ascending = False))"
   ]
  }
 ],
 "metadata": {
  "language_info": {
   "name": "python"
  },
  "orig_nbformat": 4
 },
 "nbformat": 4,
 "nbformat_minor": 2
}
