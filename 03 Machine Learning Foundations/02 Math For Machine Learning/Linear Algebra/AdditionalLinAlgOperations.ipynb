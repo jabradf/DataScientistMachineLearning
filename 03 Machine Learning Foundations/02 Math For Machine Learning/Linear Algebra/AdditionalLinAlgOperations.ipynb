{
 "cells": [
  {
   "attachments": {},
   "cell_type": "markdown",
   "metadata": {},
   "source": [
    "# Additional Linear Algebra Operations\n",
    "Moving past special matrices, there are some more advanced linear algebra operations we can perform using NumPy. To start, we will be using the numpy.linalg sublibrary to perform the following operations:\n",
    "\n",
    "The “norm” (or length/magnitude) of a vector can be found using `np.linalg.norm()`:"
   ]
  },
  {
   "cell_type": "code",
   "execution_count": null,
   "metadata": {},
   "outputs": [],
   "source": [
    "import numpy as np\n",
    "v = np.array([2,-4,1])\n",
    "v_norm = np.linalg.norm(v)"
   ]
  },
  {
   "attachments": {},
   "cell_type": "markdown",
   "metadata": {},
   "source": [
    "This outputs `v_norm` as: 4.58257569495584\n",
    "\n",
    "The inverse of a square matrix, if one exists, can be found using `np.linalg.inv()`:"
   ]
  },
  {
   "cell_type": "code",
   "execution_count": null,
   "metadata": {},
   "outputs": [],
   "source": [
    "A = np.array([[1,2],[3,4]])\n",
    "print(np.linalg.inv(A))"
   ]
  },
  {
   "attachments": {},
   "cell_type": "markdown",
   "metadata": {},
   "source": [
    "This outputs:\n",
    "\n",
    "> [[-2.   1. ]  \n",
    "> [ 1.5 -0.5]]"
   ]
  },
  {
   "attachments": {},
   "cell_type": "markdown",
   "metadata": {},
   "source": [
    "Finally, we can actually solve for unknown variables in a system on linear equations in Ax=b form using `np.linalg.solve()`, which takes in the A and b parameters. Given:\n",
    "\n",
    "> x + 4y -  z = -1  \n",
    "> -x - 3y + 2z =  2  \n",
    "> 2x -  y - 2z = -2  "
   ]
  },
  {
   "attachments": {},
   "cell_type": "markdown",
   "metadata": {},
   "source": [
    "We convert to Ax=b form and solve.\n",
    "\n"
   ]
  },
  {
   "cell_type": "code",
   "execution_count": null,
   "metadata": {},
   "outputs": [],
   "source": [
    "# each array in A is an equation from the above system of equations\n",
    "A = np.array([[1,4,-1],[-1,-3,2],[2,-1,-2]])\n",
    "# the solution to each equation\n",
    "b = np.array([-1,2,-2])\n",
    "# solve for x, y, and z\n",
    "x,y,z = np.linalg.solve(A,b)"
   ]
  },
  {
   "attachments": {},
   "cell_type": "markdown",
   "metadata": {},
   "source": [
    "If we `print((x, y, z))`, we see the following output:\n",
    "\n",
    "`(0, 0, 1.0)`\n",
    "\n",
    "showing that the solution to the system of equations is:\n",
    "\n",
    "> x = 0  \n",
    "> y = 0  \n",
    "> z = 1"
   ]
  }
 ],
 "metadata": {
  "kernelspec": {
   "display_name": "base",
   "language": "python",
   "name": "python3"
  },
  "language_info": {
   "name": "python",
   "version": "3.9.13"
  },
  "orig_nbformat": 4
 },
 "nbformat": 4,
 "nbformat_minor": 2
}
