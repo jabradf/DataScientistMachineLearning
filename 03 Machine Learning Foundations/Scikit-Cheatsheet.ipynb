{
 "cells": [
  {
   "attachments": {},
   "cell_type": "markdown",
   "id": "f4c71b09",
   "metadata": {},
   "source": [
    "# Scikit-Learn Cheatsheet"
   ]
  },
  {
   "attachments": {},
   "cell_type": "markdown",
   "id": "7cf00067",
   "metadata": {},
   "source": [
    "Scikit-learn is a library in Python that provides many unsupervised and supervised learning algorithms. It’s built upon some of the technology you might already be familiar with, like NumPy, pandas, and Matplotlib!\n",
    "\n",
    "As you build robust Machine Learning programs, it’s helpful to have all the sklearn commands all in one place in case you forget."
   ]
  },
  {
   "attachments": {},
   "cell_type": "markdown",
   "id": "6e1cc217",
   "metadata": {},
   "source": [
    "## [Linear Regression](http://scikit-learn.org/stable/modules/generated/sklearn.linear_model.LinearRegression.html)\n",
    "Import and create the model:"
   ]
  },
  {
   "cell_type": "code",
   "execution_count": null,
   "id": "fb9e86fa",
   "metadata": {},
   "outputs": [],
   "source": [
    "from sklearn.linear_model import LinearRegression\n",
    " \n",
    "your_model = LinearRegression()"
   ]
  },
  {
   "attachments": {},
   "cell_type": "markdown",
   "id": "892d06a8",
   "metadata": {},
   "source": [
    "Fit:"
   ]
  },
  {
   "cell_type": "code",
   "execution_count": null,
   "id": "b1dcdf54",
   "metadata": {},
   "outputs": [],
   "source": [
    "your_model.fit(x_training_data, y_training_data)"
   ]
  },
  {
   "attachments": {},
   "cell_type": "markdown",
   "id": "42134cfe",
   "metadata": {},
   "source": [
    "* .coef_: contains the coefficients\n",
    "* .intercept_: contains the intercept\n",
    "\n",
    "Predict:"
   ]
  },
  {
   "cell_type": "code",
   "execution_count": null,
   "id": "ae028b88",
   "metadata": {},
   "outputs": [],
   "source": [
    "predictions = your_model.predict(your_x_data)"
   ]
  },
  {
   "attachments": {},
   "cell_type": "markdown",
   "id": "86c63314",
   "metadata": {},
   "source": [
    "* .score(): returns the coefficient of determination R²"
   ]
  },
  {
   "attachments": {},
   "cell_type": "markdown",
   "id": "58e1527a",
   "metadata": {},
   "source": [
    "## [Naive Bayes](http://scikit-learn.org/stable/modules/generated/sklearn.naive_bayes.MultinomialNB.html#sklearn.naive_bayes.MultinomialNB)\n",
    "Import and create the model:"
   ]
  },
  {
   "cell_type": "code",
   "execution_count": null,
   "id": "288921b3",
   "metadata": {},
   "outputs": [],
   "source": [
    "from sklearn.naive_bayes import MultinomialNB\n",
    " \n",
    "your_model = MultinomialNB()"
   ]
  },
  {
   "attachments": {},
   "cell_type": "markdown",
   "id": "429af785",
   "metadata": {},
   "source": [
    "\n",
    "Fit:"
   ]
  },
  {
   "cell_type": "code",
   "execution_count": null,
   "id": "b7142fe0",
   "metadata": {},
   "outputs": [],
   "source": [
    "your_model.fit(x_training_data, y_training_data)"
   ]
  },
  {
   "attachments": {},
   "cell_type": "markdown",
   "id": "57f49b24",
   "metadata": {},
   "source": [
    "\n",
    "Predict:"
   ]
  },
  {
   "cell_type": "code",
   "execution_count": null,
   "id": "32013dc4",
   "metadata": {},
   "outputs": [],
   "source": [
    "# Returns a list of predicted classes - one prediction for every data point\n",
    "predictions = your_model.predict(your_x_data)\n",
    " \n",
    "# For every data point, returns a list of probabilities of each class\n",
    "probabilities = your_model.predict_proba(your_x_data)"
   ]
  },
  {
   "attachments": {},
   "cell_type": "markdown",
   "id": "23f8b556",
   "metadata": {},
   "source": [
    "## [K-Nearest Neighbors](http://scikit-learn.org/stable/modules/generated/sklearn.neighbors.KNeighborsClassifier.html#sklearn.neighbors.KNeighborsClassifier)\n",
    "Import and create the model:"
   ]
  },
  {
   "cell_type": "code",
   "execution_count": null,
   "id": "97a9a5c6",
   "metadata": {},
   "outputs": [],
   "source": [
    "\n",
    "from sklearn.neighbors import KNeighborsClassifier\n",
    " \n",
    "your_model = KNeighborsClassifier()"
   ]
  },
  {
   "attachments": {},
   "cell_type": "markdown",
   "id": "0a6f424c",
   "metadata": {},
   "source": [
    "Fit:\n"
   ]
  },
  {
   "cell_type": "code",
   "execution_count": null,
   "id": "cab13591",
   "metadata": {},
   "outputs": [],
   "source": [
    "your_model.fit(x_training_data, y_training_data)"
   ]
  },
  {
   "attachments": {},
   "cell_type": "markdown",
   "id": "c19c446a",
   "metadata": {},
   "source": [
    "Predict:"
   ]
  },
  {
   "cell_type": "code",
   "execution_count": null,
   "id": "9b686ce1",
   "metadata": {},
   "outputs": [],
   "source": [
    "# Returns a list of predicted classes - one prediction for every data point\n",
    "predictions = your_model.predict(your_x_data)\n",
    " \n",
    "# For every data point, returns a list of probabilities of each class\n",
    "probabilities = your_model.predict_proba(your_x_data)"
   ]
  },
  {
   "attachments": {},
   "cell_type": "markdown",
   "id": "ce2fa9f4",
   "metadata": {},
   "source": [
    "## [K-Means](http://scikit-learn.org/stable/modules/generated/sklearn.cluster.KMeans.html)\n",
    "Import and create the model:"
   ]
  },
  {
   "cell_type": "code",
   "execution_count": null,
   "id": "97c74669",
   "metadata": {},
   "outputs": [],
   "source": [
    "from sklearn.cluster import KMeans\n",
    " \n",
    "your_model = KMeans(n_clusters=4, init='random')"
   ]
  },
  {
   "attachments": {},
   "cell_type": "markdown",
   "id": "0b82d537",
   "metadata": {},
   "source": [
    "* n_clusters: number of clusters to form and number of centroids to generate\n",
    "* init: method for initialization\n",
    "    * k-means++: K-Means++ [default]\n",
    "    * random: K-Means\n",
    "*random_state: the seed used by the random number generator [optional]\n",
    "\n",
    "Fit:"
   ]
  },
  {
   "cell_type": "code",
   "execution_count": null,
   "id": "1f09ed0a",
   "metadata": {},
   "outputs": [],
   "source": [
    "your_model.fit(x_training_data)"
   ]
  },
  {
   "attachments": {},
   "cell_type": "markdown",
   "id": "9f9d8801",
   "metadata": {},
   "source": [
    "Predict:"
   ]
  },
  {
   "cell_type": "code",
   "execution_count": null,
   "id": "6e0cae96",
   "metadata": {},
   "outputs": [],
   "source": [
    "predictions = your_model.predict(your_x_data)"
   ]
  },
  {
   "attachments": {},
   "cell_type": "markdown",
   "id": "44911e6e",
   "metadata": {},
   "source": [
    "## [Validating the Model](http://scikit-learn.org/stable/modules/classes.html#sklearn-metrics-metrics)\n",
    "Import and print accuracy, recall, precision, and F1 score:\n"
   ]
  },
  {
   "cell_type": "code",
   "execution_count": null,
   "id": "1e2fd191",
   "metadata": {},
   "outputs": [],
   "source": [
    "from sklearn.metrics import accuracy_score, recall_score, precision_score, f1_score\n",
    " \n",
    "print(accuracy_score(true_labels, guesses))\n",
    "print(recall_score(true_labels, guesses))\n",
    "print(precision_score(true_labels, guesses))\n",
    "print(f1_score(true_labels, guesses))\n",
    "Import and print the confusion matrix:\n",
    "\n",
    "from sklearn.metrics import confusion_matrix\n",
    " \n",
    "print(confusion_matrix(true_labels, guesses))"
   ]
  },
  {
   "attachments": {},
   "cell_type": "markdown",
   "id": "b7dc2074",
   "metadata": {},
   "source": [
    "## [Training Sets and Test Sets](http://scikit-learn.org/stable/modules/generated/sklearn.model_selection.train_test_split.html)"
   ]
  },
  {
   "cell_type": "code",
   "execution_count": null,
   "id": "124f8d74",
   "metadata": {},
   "outputs": [],
   "source": [
    "from sklearn.model_selection import train_test_split\n",
    " \n",
    "x_train, x_test, y_train, y_test = train_test_split(x, y, train_size=0.8, test_size=0.2)"
   ]
  },
  {
   "attachments": {},
   "cell_type": "markdown",
   "id": "c0a8599f",
   "metadata": {},
   "source": [
    "* train_size: the proportion of the dataset to include in the train split\n",
    "* test_size: the proportion of the dataset to include in the test split\n",
    "* random_state: the seed used by the random number generator [optional]"
   ]
  }
 ],
 "metadata": {
  "kernelspec": {
   "display_name": "Python 3 (ipykernel)",
   "language": "python",
   "name": "python3"
  },
  "language_info": {
   "codemirror_mode": {
    "name": "ipython",
    "version": 3
   },
   "file_extension": ".py",
   "mimetype": "text/x-python",
   "name": "python",
   "nbconvert_exporter": "python",
   "pygments_lexer": "ipython3",
   "version": "3.9.13"
  }
 },
 "nbformat": 4,
 "nbformat_minor": 5
}
